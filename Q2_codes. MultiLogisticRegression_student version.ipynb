{
 "cells": [
  {
   "cell_type": "markdown",
   "metadata": {
    "id": "-XRer7USbNAm"
   },
   "source": [
    "# Lab 2b: Logistic Regression for  Multi Class Classification\n",
    "Solution by Sushant Gautam (Roll 20)"
   ]
  },
  {
   "cell_type": "markdown",
   "metadata": {
    "id": "yKan6WopbZEB"
   },
   "source": [
    "## Tasks for students:\n",
    "\n",
    "1. Logistic Regression for multi-class classification\n",
    "2. Plot logistic regression cost function"
   ]
  },
  {
   "cell_type": "markdown",
   "metadata": {
    "id": "KaHTpExwV6m-"
   },
   "source": [
    "## Import required libraries"
   ]
  },
  {
   "cell_type": "code",
   "execution_count": 1,
   "metadata": {
    "ExecuteTime": {
     "end_time": "2021-03-24T12:43:56.260222Z",
     "start_time": "2021-03-24T12:43:54.296235Z"
    },
    "id": "u_2FJJ92VwuT"
   },
   "outputs": [],
   "source": [
    "import numpy as np\n",
    "import matplotlib.pyplot as plt\n",
    "import pandas as pd\n",
    "from sklearn.datasets import make_classification\n",
    "import math"
   ]
  },
  {
   "cell_type": "markdown",
   "metadata": {
    "id": "pNtdXp1IZeLa"
   },
   "source": [
    "## Synthetic dataset"
   ]
  },
  {
   "cell_type": "markdown",
   "metadata": {
    "id": "b7BtFbgLWp6X"
   },
   "source": [
    "Let's create a synthetic binary class dataset using  [scikit learn](https://scikit-learn.org/stable/modules/generated/sklearn.datasets.make_classification.html) and plot it."
   ]
  },
  {
   "cell_type": "code",
   "execution_count": 2,
   "metadata": {
    "ExecuteTime": {
     "end_time": "2021-03-24T12:49:24.161157Z",
     "start_time": "2021-03-24T12:49:23.941117Z"
    },
    "colab": {
     "base_uri": "https://localhost:8080/",
     "height": 296
    },
    "id": "uOF2gFhcWpUa",
    "outputId": "09ac1035-682d-41e5-dc5d-10e183eefbdf"
   },
   "outputs": [
    {
     "data": {
      "text/plain": [
       "[]"
      ]
     },
     "execution_count": 2,
     "metadata": {},
     "output_type": "execute_result"
    },
    {
     "data": {
      "image/png": "[encoded data removed]",
      "text/plain": [
       "<Figure size 432x288 with 1 Axes>"
      ]
     },
     "metadata": {
      "needs_background": "light"
     },
     "output_type": "display_data"
    }
   ],
   "source": [
    "\n",
    "def one_hot(a, num_classes):\n",
    "    return np.squeeze(np.eye(num_classes)[a.reshape(-1)])\n",
    "\n",
    "n_of_class = 3\n",
    "\n",
    "n_samples = 100\n",
    "X, y = make_classification(n_samples, n_features=n_of_class, n_informative=n_of_class, n_repeated=0,\n",
    "                           n_redundant=0 ,random_state=1,  n_classes=n_of_class, n_clusters_per_class=1)\n",
    "y_org = y.reshape(n_samples,1)\n",
    "y=one_hot(y_org,n_of_class )\n",
    "\n",
    "\n",
    "# Plot\n",
    "pos , neg, third = (y_org==1) , (y_org==0), (y_org==2)\n",
    "plt.scatter(X[pos[:,0],0],X[pos[:,0],1],c=\"r\",marker=\"+\")\n",
    "plt.scatter(X[neg[:,0],0],X[neg[:,0],1],marker=\"o\",s=10)\n",
    "plt.scatter(X[third[:,0],0],X[third[:,0],1],c=\"y\", marker=\".\",s=40)\n",
    "plt.xlabel(\"Feature 1\")\n",
    "plt.ylabel(\"Feature 2\")\n",
    "plt.legend([\"Class 1\",\"Class 0\", \"Class Third\"],loc=0)\n",
    "plt.plot()"
   ]
  },
  {
   "cell_type": "markdown",
   "metadata": {
    "id": "c0xRMHyrZkSi"
   },
   "source": [
    "## Logistic regression classifier"
   ]
  },
  {
   "cell_type": "markdown",
   "metadata": {
    "id": "y_RVPQ4naoKn"
   },
   "source": [
    "Let's now create a logistic regression classifier. We will follow the following steps."
   ]
  },
  {
   "cell_type": "markdown",
   "metadata": {
    "id": "bS_LPVSfZ72D"
   },
   "source": [
    "1. Softmax function\n",
    "2. Compute the cost function and the gradient\n",
    "3. Gradient descent\n",
    "4. Plot the cost function\n",
    "5. Prediction\n",
    "6. Compute accuracy"
   ]
  },
  {
   "cell_type": "markdown",
   "metadata": {},
   "source": [
    "### 1. Softmax function"
   ]
  },
  {
   "cell_type": "code",
   "execution_count": 3,
   "metadata": {},
   "outputs": [],
   "source": [
    "def softmax(x):\n",
    "    e = np.exp(x - np.max(x)) \n",
    "    if e.ndim == 1:\n",
    "        return e / (np.sum(e, axis=0))\n",
    "    return e / (np.array([np.sum(e, axis=1)]).T)  # ndim = 2"
   ]
  },
  {
   "attachments": {
    "08a0ff0f-ff85-4fe7-b287-0d166782968b.png": {
     "image/png": "[encoded data removed]"
    }
   },
   "cell_type": "markdown",
   "metadata": {
    "id": "O9rsdm9ncZ7m"
   },
   "source": [
    "### 2. Compute the cost function and the gradient\n",
    "\n",
    "For multi-class logistic regression:\n",
    "![image.png](attachment:08a0ff0f-ff85-4fe7-b287-0d166782968b.png)"
   ]
  },
  {
   "cell_type": "code",
   "execution_count": 12,
   "metadata": {
    "ExecuteTime": {
     "end_time": "2021-03-24T12:43:56.716229Z",
     "start_time": "2021-03-24T12:43:56.708230Z"
    },
    "id": "qCbGpqNKcV-O"
   },
   "outputs": [],
   "source": [
    "def multi_logistic_cost(theta, X, y):\n",
    "    z= softmax(np.dot(X,theta))\n",
    "    cost = - np.mean(    np.sum(  y * np.log(z) + (1 - y) * np.log(1 - z)    , axis=1)   )\n",
    "    grad =  np.dot(X.T, z-y) \n",
    "    return cost, grad"
   ]
  },
  {
   "cell_type": "markdown",
   "metadata": {
    "id": "GxLyNYhAqyxS"
   },
   "source": [
    "### 3. Gradient descent"
   ]
  },
  {
   "cell_type": "code",
   "execution_count": 5,
   "metadata": {
    "ExecuteTime": {
     "end_time": "2021-03-24T12:43:56.740226Z",
     "start_time": "2021-03-24T12:43:56.720232Z"
    },
    "id": "IkYFpg4luU9M"
   },
   "outputs": [],
   "source": [
    "def gradientDescent(X,y,theta,alpha,num_iters):\n",
    "    \"\"\" \n",
    "    Takes in X, y, initial theta and update thetas by taking num_iters gradient steps\n",
    "    with learning rate of alpha \n",
    "    \"\"\"\n",
    "    cost_bucket = []\n",
    "    for i in range(num_iters):\n",
    "        cost, grad = multi_logistic_cost(theta, X, y)\n",
    "        theta -=  alpha*grad\n",
    "        cost_bucket.append(cost)\n",
    "    return theta, cost_bucket"
   ]
  },
  {
   "cell_type": "markdown",
   "metadata": {
    "id": "2ctfLW6gHldH"
   },
   "source": [
    "### Initialize values, preprocess and compute $\\theta$"
   ]
  },
  {
   "cell_type": "code",
   "execution_count": 6,
   "metadata": {
    "ExecuteTime": {
     "end_time": "2021-03-24T12:43:56.860222Z",
     "start_time": "2021-03-24T12:43:56.744234Z"
    },
    "colab": {
     "base_uri": "https://localhost:8080/"
    },
    "id": "55o6dseyuLoJ",
    "outputId": "b49b8372-f732-4431-9308-d3821086152a"
   },
   "outputs": [
    {
     "name": "stdout",
     "output_type": "stream",
     "text": [
      " Optimized theta found by the gradient descent [[ 2.66687223 -2.90025274  3.2333805 ]\n",
      " [ 2.25313604 -1.43086119  2.17772515]\n",
      " [-0.3319304   4.72916149 -1.39723109]\n",
      " [ 3.82659352 -2.70622937  1.87963585]]\n",
      "The cost associated with the initial theta 109.86122886681096\n"
     ]
    }
   ],
   "source": [
    "if not 'init' in locals():  \n",
    "    m , n = X.shape\n",
    "    alpha = 0.01\n",
    "    num_iters = 2000\n",
    "\n",
    "    # Add ones for the intercept term and add it to X\n",
    "    X0 = np.ones((m,1))\n",
    "    X = np.hstack((X0,X)) \n",
    "    theta = np.ones((n+1,n_of_class)) \n",
    "init=1\n",
    "\n",
    "theta, cost_bucket = gradientDescent(X,y,theta,alpha,num_iters)\n",
    "print(\" Optimized theta found by the gradient descent\", theta)\n",
    "print(\"The cost associated with the initial theta\",cost_bucket[0])\n",
    "# cost_bucket"
   ]
  },
  {
   "cell_type": "markdown",
   "metadata": {
    "id": "YHJK7XMtmA7G"
   },
   "source": [
    "### 4. Plot the cost function"
   ]
  },
  {
   "cell_type": "code",
   "execution_count": 7,
   "metadata": {
    "ExecuteTime": {
     "end_time": "2021-03-24T12:43:57.088225Z",
     "start_time": "2021-03-24T12:43:56.864230Z"
    },
    "colab": {
     "base_uri": "https://localhost:8080/",
     "height": 312
    },
    "id": "BwWfjxNFhhNf",
    "outputId": "784eb15f-5fbf-4473-99be-b22b27dfe456"
   },
   "outputs": [
    {
     "data": {
      "text/plain": [
       "Text(0.5, 1.0, 'Cost Function')"
      ]
     },
     "execution_count": 7,
     "metadata": {},
     "output_type": "execute_result"
    },
    {
     "data": {
      "image/png": "[encoded data removed]",
      "text/plain": [
       "<Figure size 432x288 with 1 Axes>"
      ]
     },
     "metadata": {
      "needs_background": "light"
     },
     "output_type": "display_data"
    }
   ],
   "source": [
    "plt.plot(range(len(cost_bucket)), cost_bucket)\n",
    "plt.title('Cost Function')"
   ]
  },
  {
   "cell_type": "markdown",
   "metadata": {
    "id": "lAQ-1_nOVjd4"
   },
   "source": [
    "### 5. Prediction"
   ]
  },
  {
   "cell_type": "code",
   "execution_count": 8,
   "metadata": {
    "ExecuteTime": {
     "end_time": "2021-03-24T12:49:59.107586Z",
     "start_time": "2021-03-24T12:49:59.087596Z"
    },
    "id": "ARIZQr1ZR-ak"
   },
   "outputs": [],
   "source": [
    "def logistic_classifier(theta,X):\n",
    "    \"\"\" Takes in theta and X and predicts the class label with the confidence value\"\"\"\n",
    "    return  softmax(X.dot(theta))"
   ]
  },
  {
   "cell_type": "code",
   "execution_count": 9,
   "metadata": {
    "ExecuteTime": {
     "end_time": "2021-03-24T12:50:00.012757Z",
     "start_time": "2021-03-24T12:49:59.996765Z"
    },
    "colab": {
     "base_uri": "https://localhost:8080/"
    },
    "id": "judoTlEqX4Be",
    "outputId": "5709186f-6d7c-4c2f-b219-e225fb83d45b"
   },
   "outputs": [
    {
     "name": "stdout",
     "output_type": "stream",
     "text": [
      "The probability of the sample belonging to the 0  class is:  0.9255931538277737\n"
     ]
    }
   ],
   "source": [
    "x_test = np.array([1]* n_of_class)\n",
    "x_test = np.hstack((np.ones(1),x_test))\n",
    "prob = logistic_classifier(theta,x_test)\n",
    "print(\"The probability of the sample belonging to the\",np.argmax(prob),\" class is: \",prob.max())"
   ]
  },
  {
   "cell_type": "markdown",
   "metadata": {
    "id": "VEK_iae9asOE"
   },
   "source": [
    "### 6. Compute accuracy"
   ]
  },
  {
   "cell_type": "code",
   "execution_count": 10,
   "metadata": {
    "ExecuteTime": {
     "end_time": "2021-03-24T12:43:57.376236Z",
     "start_time": "2021-03-24T12:43:57.356270Z"
    },
    "colab": {
     "base_uri": "https://localhost:8080/"
    },
    "id": "d2dJk7G3aVAk",
    "outputId": "abfce5cf-5dac-4d65-c302-30444da9efe4"
   },
   "outputs": [
    {
     "name": "stdout",
     "output_type": "stream",
     "text": [
      "Training Accuracy is:  90 %\n"
     ]
    }
   ],
   "source": [
    "prob = logistic_classifier(theta,X)\n",
    "print(\"Training Accuracy is: \", n_samples  - np.count_nonzero(np.subtract([np.argmax(e) for e in prob], [e.argmax() for e in y])),\"%\")"
   ]
  },
  {
   "cell_type": "code",
   "execution_count": 11,
   "metadata": {
    "tags": []
   },
   "outputs": [
    {
     "data": {
      "text/plain": [
       "[]"
      ]
     },
     "execution_count": 11,
     "metadata": {},
     "output_type": "execute_result"
    },
    {
     "data": {
      "image/png": "[encoded data removed]",
      "text/plain": [
       "<Figure size 432x288 with 1 Axes>"
      ]
     },
     "metadata": {
      "needs_background": "light"
     },
     "output_type": "display_data"
    }
   ],
   "source": [
    "# Plot\n",
    "pos , neg, third = (y_org==1) , (y_org==0), (y_org==2)\n",
    "plt.scatter(X[:, (1,2)][pos[:,0],0],X[:, (1,2)][pos[:,0],1],c=\"r\",marker=\"+\")\n",
    "plt.scatter(X[:, (1,2)][neg[:,0],0],X[:, (1,2)][neg[:,0],1],marker=\"o\",s=10)\n",
    "plt.scatter(X[:, (1,2)][third[:,0],0],X[:, (1,2)][third[:,0],1],c=\"y\", marker=\".\",s=10)\n",
    "plt.scatter(X[:, (1,2)][(np.subtract([np.argmax(e) for e in prob], [e.argmax() for e in y]))!= 0,0],X[:, (1,2)][(np.subtract([np.argmax(e) for e in prob], [e.argmax() for e in y]))!= 0,1],c=\"m\", marker=\"x\",s=40)\n",
    "\n",
    "plt.xlabel(\"Feature 1\")\n",
    "plt.ylabel(\"Feature 2\")\n",
    "plt.legend([\"Class 1\",\"Class 0\", \"Class Third\", \"Misclassified\"],loc=0)\n",
    "plt.title('Showing Misclassification')\n",
    "plt.plot()"
   ]
  },
  {
   "cell_type": "code",
   "execution_count": null,
   "metadata": {},
   "outputs": [],
   "source": []
  },
  {
   "cell_type": "code",
   "execution_count": null,
   "metadata": {},
   "outputs": [],
   "source": []
  }
 ],
 "metadata": {
  "colab": {
   "name": "Lab2_LogisticRegression_student version.ipynb",
   "provenance": [],
   "toc_visible": true
  },
  "kernelspec": {
   "display_name": "Python 3",
   "language": "python",
   "name": "python3"
  },
  "language_info": {
   "codemirror_mode": {
    "name": "ipython",
    "version": 3
   },
   "file_extension": ".py",
   "mimetype": "text/x-python",
   "name": "python",
   "nbconvert_exporter": "python",
   "pygments_lexer": "ipython3",
   "version": "3.6.8"
  },
  "varInspector": {
   "cols": {
    "lenName": 16,
    "lenType": 16,
    "lenVar": 40
   },
   "kernels_config": {
    "python": {
     "delete_cmd_postfix": "",
     "delete_cmd_prefix": "del ",
     "library": "var_list.py",
     "varRefreshCmd": "print(var_dic_list())"
    },
    "r": {
     "delete_cmd_postfix": ") ",
     "delete_cmd_prefix": "rm(",
     "library": "var_list.r",
     "varRefreshCmd": "cat(var_dic_list()) "
    }
   },
   "types_to_exclude": [
    "module",
    "function",
    "builtin_function_or_method",
    "instance",
    "_Feature"
   ],
   "window_display": false
  }
 },
 "nbformat": 4,
 "nbformat_minor": 4
}
